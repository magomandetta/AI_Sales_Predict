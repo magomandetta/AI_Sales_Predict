{
 "cells": [
  {
   "cell_type": "code",
   "execution_count": 4,
   "metadata": {},
   "outputs": [
    {
     "name": "stdout",
     "output_type": "stream",
     "text": [
      "        Data Dia da Semana                      Descrição  Qtde  Total\n",
      "0 2024-03-12   Terça-feira       EXEC FRANGO A PARMEGIANA     6  227.4\n",
      "1 2024-03-12   Terça-feira  EXEC MAMINHA AO MOLHO MADEIRA     4  151.6\n",
      "2 2024-03-12   Terça-feira         EXEC TILAPIA AO POPEYE     7  272.3\n",
      "3 2024-03-12   Terça-feira          MMT FRANGO PARMEGIANA     5  168.5\n",
      "4 2024-03-12   Terça-feira        MMT LASANHA A BOLONHESA     5  156.5\n"
     ]
    }
   ],
   "source": [
    "import pandas as pd\n",
    "\n",
    "# Carregar a planilha\n",
    "df = pd.read_excel(\"ItensVendidosDia.xlsx\")\n",
    "\n",
    "# Corrigir os valores: garantir que são strings antes de aplicar str.replace\n",
    "df[\"Valor Unitário\"] = df[\"Valor Unitário\"].astype(str).replace(\"R\\$\\s*\", \"\", regex=True).str.replace(\",\", \".\").astype(float)\n",
    "df[\"Total\"] = df[\"Total\"].astype(str).replace(\"R\\$\\s*\", \"\", regex=True).str.replace(\",\", \".\").astype(float)\n",
    "\n",
    "# Converter a coluna de data para datetime\n",
    "df[\"Data\"] = pd.to_datetime(df[\"Data\"], format=\"%d/%m/%Y\")\n",
    "\n",
    "# Agrupar por data e descrição, somando quantidades e total vendido\n",
    "df_agrupado = df.groupby([\"Data\", \"Descrição\"], as_index=False).agg({\n",
    "    \"Qtde\": \"sum\",\n",
    "    \"Total\": \"sum\"\n",
    "})\n",
    "\n",
    "# Adicionar a coluna com o dia da semana\n",
    "dias_semana = {\n",
    "    'Monday': 'Segunda-feira',\n",
    "    'Tuesday': 'Terça-feira',\n",
    "    'Wednesday': 'Quarta-feira',\n",
    "    'Thursday': 'Quinta-feira',\n",
    "    'Friday': 'Sexta-feira',\n",
    "    'Saturday': 'Sábado',\n",
    "    'Sunday': 'Domingo'\n",
    "}\n",
    "df_agrupado[\"Dia da Semana\"] = df_agrupado[\"Data\"].dt.day_name().map(dias_semana)\n",
    "\n",
    "# Reorganizar as colunas\n",
    "df_agrupado = df_agrupado[[\"Data\", \"Dia da Semana\", \"Descrição\", \"Qtde\", \"Total\"]]\n",
    "\n",
    "# Exibir resultado\n",
    "print(df_agrupado.head())\n",
    "\n",
    "# (Opcional) Salvar em Excel\n",
    "df_agrupado.to_excel(\"Itens_Agrupados_com_Dia_Semana.xlsx\", index=False)\n"
   ]
  }
 ],
 "metadata": {
  "kernelspec": {
   "display_name": "Python 3",
   "language": "python",
   "name": "python3"
  },
  "language_info": {
   "codemirror_mode": {
    "name": "ipython",
    "version": 3
   },
   "file_extension": ".py",
   "mimetype": "text/x-python",
   "name": "python",
   "nbconvert_exporter": "python",
   "pygments_lexer": "ipython3",
   "version": "3.10.11"
  },
  "orig_nbformat": 4
 },
 "nbformat": 4,
 "nbformat_minor": 2
}
